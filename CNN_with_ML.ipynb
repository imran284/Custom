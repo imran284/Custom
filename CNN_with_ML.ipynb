{
  "nbformat": 4,
  "nbformat_minor": 0,
  "metadata": {
    "colab": {
      "name": "CNN with ML.ipynb",
      "provenance": []
    },
    "kernelspec": {
      "name": "python3",
      "display_name": "Python 3"
    },
    "language_info": {
      "name": "python"
    },
    "accelerator": "GPU"
  },
  "cells": [
    {
      "cell_type": "code",
      "metadata": {
        "colab": {
          "base_uri": "https://localhost:8080/"
        },
        "id": "labLGvk4qQs6",
        "outputId": "a9aaa629-f348-432c-dad5-7045a02467eb"
      },
      "source": [
        "from google.colab import drive\n",
        "drive.mount('/content/drive')"
      ],
      "execution_count": null,
      "outputs": [
        {
          "output_type": "stream",
          "text": [
            "Mounted at /content/drive\n"
          ],
          "name": "stdout"
        }
      ]
    },
    {
      "cell_type": "code",
      "metadata": {
        "id": "8vHCDvtCqaxv"
      },
      "source": [
        "import pandas as pd\n",
        "import keras\n",
        "from keras.models import Sequential\n",
        "from keras.layers import Dense, Activation, Dropout, Flatten, Conv2D, MaxPooling2D\n",
        "from keras.layers.normalization import BatchNormalization\n",
        "import numpy as np\n",
        "import matplotlib.pyplot as plt\n",
        "from sklearn.utils.multiclass import unique_labels\n"
      ],
      "execution_count": null,
      "outputs": []
    },
    {
      "cell_type": "code",
      "metadata": {
        "id": "9Sq4gEjMqkht"
      },
      "source": [
        "X = np.load('/content/drive/MyDrive/Pnemonia/X_labellll.npy')\n",
        "Y = np.load('/content/drive/MyDrive/Pnemonia/Y_labellll (1).npy')"
      ],
      "execution_count": null,
      "outputs": []
    },
    {
      "cell_type": "code",
      "metadata": {
        "id": "13TyrWVAq72c"
      },
      "source": [
        "from sklearn.preprocessing import LabelEncoder\n",
        "le = LabelEncoder()\n",
        "Y = le.fit_transform(Y)"
      ],
      "execution_count": null,
      "outputs": []
    },
    {
      "cell_type": "code",
      "metadata": {
        "colab": {
          "base_uri": "https://localhost:8080/"
        },
        "id": "-uca2IOBrEV9",
        "outputId": "ca1a618c-4c69-415b-cf84-575d8a71ba49"
      },
      "source": [
        "print('Shape of X: ', X.shape)\n",
        "print('Shape of Y: ',Y.shape)"
      ],
      "execution_count": null,
      "outputs": [
        {
          "output_type": "stream",
          "text": [
            "Shape of X:  (5856, 128, 128, 3)\n",
            "Shape of Y:  (5856,)\n"
          ],
          "name": "stdout"
        }
      ]
    },
    {
      "cell_type": "code",
      "metadata": {
        "id": "iQ1AOFEarHOE"
      },
      "source": [
        "X= (X/255.0)\n"
      ],
      "execution_count": null,
      "outputs": []
    },
    {
      "cell_type": "code",
      "metadata": {
        "id": "41ruFlearKox"
      },
      "source": [
        "from sklearn.model_selection import train_test_split\n",
        "xtrain,xtest,ytrain,ytest= train_test_split(X, Y, test_size= .2, random_state= 3)"
      ],
      "execution_count": null,
      "outputs": []
    },
    {
      "cell_type": "code",
      "metadata": {
        "colab": {
          "base_uri": "https://localhost:8080/"
        },
        "id": "v9goJnSD0y10",
        "outputId": "018570f0-fcb3-4bd9-a3c0-c829048aaae1"
      },
      "source": [
        "print('Shape of xtrain: ', xtrain.shape)\n",
        "print('Shape of xtest: ',xtest.shape)\n",
        "print('shape of ytrain: ',ytrain.shape)\n",
        "print('shape of ytest: ',ytest.shape)"
      ],
      "execution_count": null,
      "outputs": [
        {
          "output_type": "stream",
          "text": [
            "Shape of xtrain:  (4684, 128, 128, 3)\n",
            "Shape of xtest:  (1172, 128, 128, 3)\n",
            "shape of ytrain:  (4684,)\n",
            "shape of ytest:  (1172,)\n"
          ],
          "name": "stdout"
        }
      ]
    },
    {
      "cell_type": "code",
      "metadata": {
        "id": "DW_685u61UcC"
      },
      "source": [
        "feature_extractor= Sequential()\n",
        "feature_extractor.add(Conv2D(64, (3,3), input_shape= (128,128,3)))\n",
        "feature_extractor.add(Activation(\"relu\"))\n",
        "feature_extractor.add(MaxPooling2D(pool_size=(2, 2)))\n",
        "\n",
        "\n",
        "feature_extractor.add(Conv2D(64, (3,3)))\n",
        "feature_extractor.add(Activation('relu'))\n",
        "feature_extractor.add(MaxPooling2D(pool_size=(2, 2)))\n",
        "\n",
        "\n",
        "feature_extractor.add(Conv2D(64, (3,3)))\n",
        "feature_extractor.add(Activation('relu'))\n",
        "feature_extractor.add(MaxPooling2D(pool_size=(2, 2)))\n",
        "\n",
        "\n",
        "feature_extractor.add(Conv2D(64, (3,3)))\n",
        "feature_extractor.add(Activation('relu'))\n",
        "feature_extractor.add(MaxPooling2D(pool_size=(2, 2)))\n",
        "\n",
        "\n",
        "feature_extractor.add(Flatten())"
      ],
      "execution_count": null,
      "outputs": []
    },
    {
      "cell_type": "code",
      "metadata": {
        "colab": {
          "base_uri": "https://localhost:8080/"
        },
        "id": "K1IjGH3Z2Plb",
        "outputId": "a494f4fd-6b85-47aa-de2e-cbb89660b4f5"
      },
      "source": [
        "feature_extractor.summary()"
      ],
      "execution_count": null,
      "outputs": [
        {
          "output_type": "stream",
          "text": [
            "Model: \"sequential\"\n",
            "_________________________________________________________________\n",
            "Layer (type)                 Output Shape              Param #   \n",
            "=================================================================\n",
            "conv2d (Conv2D)              (None, 126, 126, 64)      1792      \n",
            "_________________________________________________________________\n",
            "activation (Activation)      (None, 126, 126, 64)      0         \n",
            "_________________________________________________________________\n",
            "max_pooling2d (MaxPooling2D) (None, 63, 63, 64)        0         \n",
            "_________________________________________________________________\n",
            "conv2d_1 (Conv2D)            (None, 61, 61, 64)        36928     \n",
            "_________________________________________________________________\n",
            "activation_1 (Activation)    (None, 61, 61, 64)        0         \n",
            "_________________________________________________________________\n",
            "max_pooling2d_1 (MaxPooling2 (None, 30, 30, 64)        0         \n",
            "_________________________________________________________________\n",
            "conv2d_2 (Conv2D)            (None, 28, 28, 64)        36928     \n",
            "_________________________________________________________________\n",
            "activation_2 (Activation)    (None, 28, 28, 64)        0         \n",
            "_________________________________________________________________\n",
            "max_pooling2d_2 (MaxPooling2 (None, 14, 14, 64)        0         \n",
            "_________________________________________________________________\n",
            "conv2d_3 (Conv2D)            (None, 12, 12, 64)        36928     \n",
            "_________________________________________________________________\n",
            "activation_3 (Activation)    (None, 12, 12, 64)        0         \n",
            "_________________________________________________________________\n",
            "max_pooling2d_3 (MaxPooling2 (None, 6, 6, 64)          0         \n",
            "_________________________________________________________________\n",
            "flatten (Flatten)            (None, 2304)              0         \n",
            "=================================================================\n",
            "Total params: 112,576\n",
            "Trainable params: 112,576\n",
            "Non-trainable params: 0\n",
            "_________________________________________________________________\n"
          ],
          "name": "stdout"
        }
      ]
    },
    {
      "cell_type": "code",
      "metadata": {
        "id": "CjkuCAli2RVm"
      },
      "source": [
        "#Now, let us use features from convolutional network for RF\n",
        "X_for_RF = feature_extractor.predict(xtrain) #This is out X input to RF"
      ],
      "execution_count": null,
      "outputs": []
    },
    {
      "cell_type": "code",
      "metadata": {
        "colab": {
          "base_uri": "https://localhost:8080/"
        },
        "id": "gVzNrD6j3RxF",
        "outputId": "c281495d-ee8b-42d6-f352-aa70d449c22c"
      },
      "source": [
        "X_for_RF.shape"
      ],
      "execution_count": null,
      "outputs": [
        {
          "output_type": "execute_result",
          "data": {
            "text/plain": [
              "(4684, 2304)"
            ]
          },
          "metadata": {
            "tags": []
          },
          "execution_count": 13
        }
      ]
    },
    {
      "cell_type": "code",
      "metadata": {
        "id": "qWcxZpFr2zai"
      },
      "source": [
        "#RANDOM FOREST\n",
        "from sklearn.ensemble import RandomForestClassifier\n",
        "RF_model = RandomForestClassifier(n_estimators = 50, random_state = 42)"
      ],
      "execution_count": null,
      "outputs": []
    },
    {
      "cell_type": "code",
      "metadata": {
        "colab": {
          "base_uri": "https://localhost:8080/"
        },
        "id": "wI3blChv3IJ0",
        "outputId": "294ddac1-e06f-4761-9387-b45b152a06a0"
      },
      "source": [
        "# Train the model on training data\n",
        "RF_model.fit(X_for_RF, ytrain) #For sklearn no one hot encoding"
      ],
      "execution_count": null,
      "outputs": [
        {
          "output_type": "execute_result",
          "data": {
            "text/plain": [
              "RandomForestClassifier(bootstrap=True, ccp_alpha=0.0, class_weight=None,\n",
              "                       criterion='gini', max_depth=None, max_features='auto',\n",
              "                       max_leaf_nodes=None, max_samples=None,\n",
              "                       min_impurity_decrease=0.0, min_impurity_split=None,\n",
              "                       min_samples_leaf=1, min_samples_split=2,\n",
              "                       min_weight_fraction_leaf=0.0, n_estimators=50,\n",
              "                       n_jobs=None, oob_score=False, random_state=42, verbose=0,\n",
              "                       warm_start=False)"
            ]
          },
          "metadata": {
            "tags": []
          },
          "execution_count": 50
        }
      ]
    },
    {
      "cell_type": "code",
      "metadata": {
        "id": "ugq6y5fU3kjj"
      },
      "source": [
        "#Send test data through same feature extractor process\n",
        "X_test_feature = feature_extractor.predict(xtest)\n"
      ],
      "execution_count": null,
      "outputs": []
    },
    {
      "cell_type": "code",
      "metadata": {
        "colab": {
          "base_uri": "https://localhost:8080/"
        },
        "id": "ZairxqQx4YRp",
        "outputId": "f0a351cd-720b-4b48-b814-a922cb812902"
      },
      "source": [
        "X_test_feature.shape"
      ],
      "execution_count": null,
      "outputs": [
        {
          "output_type": "execute_result",
          "data": {
            "text/plain": [
              "(1172, 2304)"
            ]
          },
          "metadata": {
            "tags": []
          },
          "execution_count": 52
        }
      ]
    },
    {
      "cell_type": "code",
      "metadata": {
        "id": "vmoUHdCT4YtX"
      },
      "source": [
        "#Now predict using the trained RF model. \n",
        "prediction_RF = RF_model.predict(X_test_feature)\n"
      ],
      "execution_count": null,
      "outputs": []
    },
    {
      "cell_type": "code",
      "metadata": {
        "colab": {
          "base_uri": "https://localhost:8080/"
        },
        "id": "hodVodpU4lda",
        "outputId": "33099108-ebff-4a26-f4a0-c4ff1407db91"
      },
      "source": [
        "prediction_RF.shape"
      ],
      "execution_count": null,
      "outputs": [
        {
          "output_type": "execute_result",
          "data": {
            "text/plain": [
              "(1172,)"
            ]
          },
          "metadata": {
            "tags": []
          },
          "execution_count": 54
        }
      ]
    },
    {
      "cell_type": "code",
      "metadata": {
        "colab": {
          "base_uri": "https://localhost:8080/"
        },
        "id": "-fZEjBFi4q4-",
        "outputId": "ffcb804e-5cd4-44fb-bcea-6f056871fe89"
      },
      "source": [
        "prediction_RF"
      ],
      "execution_count": null,
      "outputs": [
        {
          "output_type": "execute_result",
          "data": {
            "text/plain": [
              "array([1, 1, 1, ..., 1, 1, 1])"
            ]
          },
          "metadata": {
            "tags": []
          },
          "execution_count": 55
        }
      ]
    },
    {
      "cell_type": "code",
      "metadata": {
        "colab": {
          "base_uri": "https://localhost:8080/"
        },
        "id": "6z0vS0C339EU",
        "outputId": "fdfd17a4-86da-4f26-d30e-042292a308e9"
      },
      "source": [
        "#Print overall accuracy\n",
        "from sklearn import metrics\n",
        "print (\"Accuracy = \", metrics.accuracy_score(ytest, prediction_RF))"
      ],
      "execution_count": null,
      "outputs": [
        {
          "output_type": "stream",
          "text": [
            "Accuracy =  0.9496587030716723\n"
          ],
          "name": "stdout"
        }
      ]
    },
    {
      "cell_type": "markdown",
      "metadata": {
        "id": "izLAn7_q6yia"
      },
      "source": [
        "# SVM"
      ]
    },
    {
      "cell_type": "code",
      "metadata": {
        "id": "f-LzwFQt6zsm"
      },
      "source": [
        "from sklearn.linear_model import SGDClassifier\n",
        "svm_model= SGDClassifier(loss='hinge', random_state=45)\n"
      ],
      "execution_count": null,
      "outputs": []
    },
    {
      "cell_type": "code",
      "metadata": {
        "colab": {
          "base_uri": "https://localhost:8080/"
        },
        "id": "o8xkNbzj79Li",
        "outputId": "0502c337-8859-4408-ce82-ad046a755d6e"
      },
      "source": [
        "# Train the model on training data\n",
        "svm_model.fit(X_for_RF, ytrain) #For sklearn no one hot encoding"
      ],
      "execution_count": null,
      "outputs": [
        {
          "output_type": "execute_result",
          "data": {
            "text/plain": [
              "SGDClassifier(alpha=0.0001, average=False, class_weight=None,\n",
              "              early_stopping=False, epsilon=0.1, eta0=0.0, fit_intercept=True,\n",
              "              l1_ratio=0.15, learning_rate='optimal', loss='hinge',\n",
              "              max_iter=1000, n_iter_no_change=5, n_jobs=None, penalty='l2',\n",
              "              power_t=0.5, random_state=45, shuffle=True, tol=0.001,\n",
              "              validation_fraction=0.1, verbose=0, warm_start=False)"
            ]
          },
          "metadata": {
            "tags": []
          },
          "execution_count": 58
        }
      ]
    },
    {
      "cell_type": "code",
      "metadata": {
        "id": "QmSMoyxq8E_R"
      },
      "source": [
        "#Send test data through same feature extractor process\n",
        "X_test_feature = feature_extractor.predict(xtest)"
      ],
      "execution_count": null,
      "outputs": []
    },
    {
      "cell_type": "code",
      "metadata": {
        "id": "WjuYFd778Sfx"
      },
      "source": [
        "#Now predict using the trained svm model. \n",
        "prediction_svm = svm_model.predict(X_test_feature)"
      ],
      "execution_count": null,
      "outputs": []
    },
    {
      "cell_type": "code",
      "metadata": {
        "colab": {
          "base_uri": "https://localhost:8080/"
        },
        "id": "2Iw60OlO8XR_",
        "outputId": "18a97f8f-8879-4060-ef98-28e8b7bb3cd4"
      },
      "source": [
        "#Print overall accuracy\n",
        "from sklearn import metrics\n",
        "print (\"Accuracy = \", metrics.accuracy_score(ytest, prediction_svm))"
      ],
      "execution_count": null,
      "outputs": [
        {
          "output_type": "stream",
          "text": [
            "Accuracy =  0.9035836177474402\n"
          ],
          "name": "stdout"
        }
      ]
    },
    {
      "cell_type": "code",
      "metadata": {
        "colab": {
          "base_uri": "https://localhost:8080/"
        },
        "id": "-4YVe8Qh8pcf",
        "outputId": "f312f946-2032-424e-a23f-1ce7e44f238c"
      },
      "source": [
        "#decision tree\n",
        "from sklearn.tree import DecisionTreeClassifier \n",
        "dt = DecisionTreeClassifier()\n",
        "# Train the model on training data\n",
        "dt.fit(X_for_RF, ytrain) #For sklearn no one hot encoding\n",
        "#Now predict using the trained RF model. \n",
        "prediction_dt = dt.predict(X_test_feature)\n",
        "print (\"Accuracy = \", metrics.accuracy_score(ytest, prediction_dt))"
      ],
      "execution_count": null,
      "outputs": [
        {
          "output_type": "stream",
          "text": [
            "Accuracy =  0.9069965870307167\n"
          ],
          "name": "stdout"
        }
      ]
    },
    {
      "cell_type": "code",
      "metadata": {
        "colab": {
          "base_uri": "https://localhost:8080/"
        },
        "id": "VBrIwjaV8ycc",
        "outputId": "e26e8166-0432-4639-accc-58b8a43c8d4e"
      },
      "source": [
        "#xgboost \n",
        "import xgboost as xgb\n",
        "from xgboost import XGBClassifier\n",
        "xg = XGBClassifier() \n",
        "xg.fit(X_for_RF, ytrain) #For sklearn no one hot encoding\n",
        "#Now predict using the trained RF model. \n",
        "prediction_xg = xg.predict(X_test_feature)\n",
        "print (\"Accuracy = \", metrics.accuracy_score(ytest, prediction_xg))"
      ],
      "execution_count": null,
      "outputs": [
        {
          "output_type": "stream",
          "text": [
            "Accuracy =  0.9573378839590444\n"
          ],
          "name": "stdout"
        }
      ]
    },
    {
      "cell_type": "code",
      "metadata": {
        "colab": {
          "base_uri": "https://localhost:8080/"
        },
        "id": "Qdeb7p0J-2Zf",
        "outputId": "88b2e145-114d-4bdd-c8fe-50c1c759332d"
      },
      "source": [
        "from sklearn.metrics import plot_confusion_matrix\n",
        "from sklearn.metrics import precision_recall_curve, auc, roc_curve\n",
        "import math\n",
        "from sklearn.metrics import normalized_mutual_info_score\n",
        "from sklearn.metrics import confusion_matrix\n",
        "from sklearn.metrics import f1_score,precision_score,recall_score\n",
        "from sklearn.metrics.classification import accuracy_score, log_loss"
      ],
      "execution_count": null,
      "outputs": [
        {
          "output_type": "stream",
          "text": [
            "/usr/local/lib/python3.7/dist-packages/sklearn/utils/deprecation.py:144: FutureWarning: The sklearn.metrics.classification module is  deprecated in version 0.22 and will be removed in version 0.24. The corresponding classes / functions should instead be imported from sklearn.metrics. Anything that cannot be imported from sklearn.metrics is now part of the private API.\n",
            "  warnings.warn(message, FutureWarning)\n"
          ],
          "name": "stderr"
        }
      ]
    },
    {
      "cell_type": "code",
      "metadata": {
        "colab": {
          "base_uri": "https://localhost:8080/"
        },
        "id": "9TD1GU_k-5v1",
        "outputId": "b4a1f1ff-e39c-4eeb-ec12-c86168fec467"
      },
      "source": [
        "print('Precision score for xgboost : ', precision_score(ytest, prediction_xg))\n",
        "print('Recall score for xgboost : ', recall_score(ytest, prediction_xg))\n",
        "print('f1 score for xgboost : ', f1_score(ytest, prediction_xg, ))"
      ],
      "execution_count": null,
      "outputs": [
        {
          "output_type": "stream",
          "text": [
            "Precision score for xgboost :  0.9652375434530707\n",
            "Recall score for xgboost :  0.9765533411488863\n",
            "f1 score for xgboost :  0.9708624708624709\n"
          ],
          "name": "stdout"
        }
      ]
    },
    {
      "cell_type": "code",
      "metadata": {
        "colab": {
          "base_uri": "https://localhost:8080/",
          "height": 282
        },
        "id": "Ht4djzloFz-8",
        "outputId": "55351d18-cb4c-44ea-aa58-b6d1be690546"
      },
      "source": [
        "#Confusion Matrix - verify accuracy of each class\n",
        "import seaborn as sns\n",
        "\n",
        "cm = confusion_matrix(ytest, prediction_xg)\n",
        "#print(cm)\n",
        "sns.heatmap(cm, annot=True)"
      ],
      "execution_count": null,
      "outputs": [
        {
          "output_type": "execute_result",
          "data": {
            "text/plain": [
              "<matplotlib.axes._subplots.AxesSubplot at 0x7f23e2e9c750>"
            ]
          },
          "metadata": {
            "tags": []
          },
          "execution_count": 68
        },
        {
          "output_type": "display_data",
          "data": {
            "image/png": "[encoded data removed]",
            "text/plain": [
              "<Figure size 432x288 with 2 Axes>"
            ]
          },
          "metadata": {
            "tags": [],
            "needs_background": "light"
          }
        }
      ]
    }
  ]
}